{
 "cells": [
  {
   "cell_type": "code",
   "execution_count": null,
   "id": "46a3afc2",
   "metadata": {},
   "outputs": [],
   "source": [
    "1.Explain the term machine learning, and how does it work? Explain two machine learning applications in the business world.\n",
    "What are some of the ethical concerns that machine learning applications could raise?"
   ]
  },
  {
   "cell_type": "code",
   "execution_count": null,
   "id": "357b8dec",
   "metadata": {},
   "outputs": [],
   "source": [
    "Ans:\n",
    "\n",
    "Machine Learning is a subset of Artificial Intelligence which provides mathematical tools to analyze data, do Exploratory Data \n",
    "Analysis, make predictive models and exposed APIs and more. Machine Learning works by providing the computer capability to make \n",
    "predictions or help analysis of data by creating complex algorithmic models that are trained to work within constraints that \n",
    "have to be specified in training data. Ethical concerns that machine learning applications can raise are data related. \n",
    "As more and more data hungry applications are being created, the fine line between ethical handling and collection of data from\n",
    "various sources may blur. For this reason, we need sanity checks in place.*\n",
    "\n",
    "Applications:\n",
    "\n",
    "a. Learning the overall sentiment of consumers regarding a product launched a while ago using their reviews on an e-commerce \n",
    "website using Natural Language Processing to understand how the product is faring in the market\n",
    "\n",
    "b. Using machine learning algorithms to cluster similar customers and provide them recommendations based on their history, \n",
    "on a streaming service platform.\n"
   ]
  },
  {
   "cell_type": "code",
   "execution_count": null,
   "id": "3d4f757a",
   "metadata": {},
   "outputs": [],
   "source": [
    "2. Describe the process of human learning:"
   ]
  },
  {
   "cell_type": "code",
   "execution_count": null,
   "id": "470c3d1b",
   "metadata": {},
   "outputs": [],
   "source": [
    "Ans:\n",
    "i. Under the supervision of experts\n",
    "\n",
    "Under supervision, learning is defined by guidance provided to the learner. This guidance or supervision trains the learner to \n",
    "solve certain type of problems. Problems can range from formal communication, to mathematical calculations. Pre-calculated \n",
    "answers provide for rectifications and course correction during learning.\n",
    "\n",
    "ii. With the assistance of experts in an indirect manner\n",
    "\n",
    "Under indirect assistance, learning is defined by guidance provided to the learner through indirect means. These indirect means\n",
    "can range from books, to periodic advise from experts. This guidance or supervision trains the learner to solve certain type of\n",
    "problems but not as easily as under supervision. Problems can range from formal communication, to mathematical calculations. \n",
    "Expert indirect guidance provide for only limited rectifications and course correction during learning.\n",
    "\n",
    "iii. Self-education\n",
    "\n",
    "Under no supervision, learning is defined by self guidance provided to the learner by himself. The learner has the entire \n",
    "burden of finding ways to solve certain type of problems. Problems can range from formal communication, to mathematical\n",
    "calculations. Only self-calculated answers provide for rectifications and course correction during learning.\n"
   ]
  },
  {
   "cell_type": "code",
   "execution_count": null,
   "id": "18f079f3",
   "metadata": {},
   "outputs": [],
   "source": [
    "3. Provide a few examples of various types of machine learning"
   ]
  },
  {
   "cell_type": "code",
   "execution_count": null,
   "id": "6642e684",
   "metadata": {},
   "outputs": [],
   "source": [
    "Ans:\n",
    "\n",
    "a. Supervised machine learning- Logistic Regression, Random Forest Classifier, Naive Bayes Classifier\n",
    "\n",
    "b. Unsupervised machine learning- Heirarchichal clustering, DBSCAN algorithm, K means and K medoids algorithms .\n",
    "\n",
    "c. Semi-supervised machine learning- Associative reinforcement learning, deep reinforcement learning.\n"
   ]
  },
  {
   "cell_type": "code",
   "execution_count": null,
   "id": "7c562b84",
   "metadata": {},
   "outputs": [],
   "source": [
    "4. Examine the various forms of machine learning."
   ]
  },
  {
   "cell_type": "code",
   "execution_count": null,
   "id": "346c60e9",
   "metadata": {},
   "outputs": [],
   "source": [
    "Ans:Supervised Machine Learning is a form of machine learning which involves target variable as labeled data, and independent \n",
    "    variables. Using labeled dataset, training is supervised and predictions are made"
   ]
  },
  {
   "cell_type": "code",
   "execution_count": null,
   "id": "cd5b3f15",
   "metadata": {},
   "outputs": [],
   "source": [
    "5. Can you explain what a well-posed learning problem is? Explain the main characteristics that must be present to identify a \n",
    "learning problem properly."
   ]
  },
  {
   "cell_type": "code",
   "execution_count": null,
   "id": "4613de4a",
   "metadata": {},
   "outputs": [],
   "source": [
    "Ans:\n",
    "If a machine learning model learns from certain type of actions that it can record, to do some specific task after evaluating \n",
    "itself using an evaluation metric, then it would be called a well posed learning problem\n",
    "\n",
    "The main characteristics that must be present are:\n",
    "\n",
    "a. A task that has to be done by the machine learning model\n",
    "\n",
    "b. An action that has to be recorded and learned from by the model\n",
    "\n",
    "c. Evaluation metric using which the efficacy of the machine learning model can be measured.\n"
   ]
  },
  {
   "cell_type": "code",
   "execution_count": null,
   "id": "f948781f",
   "metadata": {},
   "outputs": [],
   "source": [
    "6. Is machine learning capable of solving all problems? Give a detailed explanation of your answer."
   ]
  },
  {
   "cell_type": "code",
   "execution_count": null,
   "id": "4220699a",
   "metadata": {},
   "outputs": [],
   "source": [
    "Ans:No. Machine learning cannot solve all problems. It can only be used to solve well defined objectives that are not vague. \n",
    "    Objective solving capability is also limited by the statistical tools and mathematical algorithms that exist today.\n",
    "\n",
    "A problem like predicted the chances of terminal cancer in a patient or classifying a spam mail is still in the domain of well\n",
    "defined objectives. Trying to solve objectives like eradicating world wide hunger, creating actual medicine for all kinds of\n",
    "cancers or, reanimating a cryogenically frozen animal through machine learning is not possible. Some portions of the bigger \n",
    "problems however, can fall in the range of machine learning.\n",
    "\n",
    "Predicting the food shortage world might face in the next 5 years can be done using machine learning. Using this prediction, \n",
    "world leaders can formulate a strategy to counter food shortage.\n",
    "\n",
    "Diving down to the cellular level and using computer vision to predict which kind of cell may turn cancerous using a sample of \n",
    "different cells, based on lifestyle, current health and other factors might be possible using machine learning.\n",
    "\n",
    "So, Machine Learning is not the solution to every problem. But it can certainly ease some of the constraints by solving them \n",
    "for us, or at least a portion of the problem.\n"
   ]
  },
  {
   "cell_type": "code",
   "execution_count": null,
   "id": "cd8f3017",
   "metadata": {},
   "outputs": [],
   "source": [
    "7. What are the various methods and technologies for solving machine learning problems? Any two of them should be defined in detail."
   ]
  },
  {
   "cell_type": "code",
   "execution_count": null,
   "id": "dd9de0f5",
   "metadata": {},
   "outputs": [],
   "source": [
    "Ans:\n",
    "a. Ensemble methods b. Regression c. Classification d. Reinforcement learning e. Dimensionality Reduction are some of the \n",
    "methods.\n",
    "\n",
    "Models that incorporate the use of multiple base learner models that work simultaneously to produce results are ensemble models. A key aspect of ensemble models is that more different the base learners are, more powerful is the combination and hence more accurate predictions. There are 4 types of ensemble model\n",
    "\n",
    "Bagging which is also called Bootstrap aggregation. Multiple base learners learn on subsets of data. A majority vote based on \n",
    "the results of the individual base learners is then used to output the final result.\n",
    "\n",
    "Boosting is mainly used to reduce bias in model. Multiple base learners are trained in a sequence in which each learner covers \n",
    "up the weakness of the previous learner to ultimately produce a powerful model.\n",
    "\n",
    "Stacking is an ensemble model that combines multiple base learner models constructed parallel to each other and independent. \n",
    "All the models produce predictions that are used creating a meta classifier which is trained on the predictions made by base \n",
    "models. The resultant prediction is then taken as the final prediction. Space and Time complexity issue is huge for stacking \n",
    "models.\n",
    "\n",
    "Cascading models are built when the cost of making a mistake in prediction is high. A threshold is chosen for multiple base \n",
    "learners. If one base learner is sure about its prediction(Probability>0.99), then the solution of this learner is taken as \n",
    "the final solution. Else, the problem is sent to a more sophisticated, complex model that does the same as the previous model. \n",
    "The problem either gets solved with probability>0.99 or it keeps getting transfered to a more complicated model that is bound \n",
    "to solve it.\n"
   ]
  },
  {
   "cell_type": "code",
   "execution_count": null,
   "id": "db4df9f7",
   "metadata": {},
   "outputs": [],
   "source": [
    "8. Can you explain the various forms of supervised learning? Explain each one with an example application"
   ]
  },
  {
   "cell_type": "code",
   "execution_count": null,
   "id": "d6f179a7",
   "metadata": {},
   "outputs": [],
   "source": [
    "Ans:\n",
    "\n",
    "Logistic Regression- It is a binary classification algorithm based on linear regression. A hyperplane is fit using a \n",
    "mathematical equation such that most of training data points are correctly classified into two class labels. Lambda is used \n",
    "as the hyperparameter. Lambda=0 would lead to overfitting and large lambda would lead to underfitting. Logistic Regression can\n",
    "be easily applied for classifying whether a voter would vote for BJP or Congress based on factors like number of visits by \n",
    "politicians, work done in their neighborhood etc.\n",
    "\n",
    "Decision Tree- It is a multi class classifier that creates multiple hyperplanes to funnel down the data points based on criteria\n",
    "and classify data points that pass certain threshold/criteria and do not. In a different sense, it creates up side down trees \n",
    "and keeps splitting data points for each criteria they pass and do not pass. Decision Tree is based on the concept of maximising\n",
    "the information gain from splitting the data points using criterias. Depth is the hyperparameter for Decision Trees and needs to\n",
    "be tuned. Large depths can lead to overfitting while small depths lead to underfitting. Classifying the data points using each\n",
    "passed criteria for Petal length, petal width, sepal length and sepal width can be done for IRIS dataset.\n",
    "\n",
    "K-NN- K nearest neighbors requires nearest instances or similar instances for a data point to be successfully classified. \n",
    "Normally, training data is learned for model generation. But, here training examples are stored. Distance function is used to \n",
    "find closest examples to an instance so that successful prediction can be made. K-NN can be used for recommendation systems \n",
    "where the input instance is checked for closest training example and then data point is classified into a group for which \n",
    "recommendations can be made.\n",
    "\n",
    "Linear Regression- It is a regression algorithm that tries to fit a straight line over data points in a 2-D plane where the \n",
    "two variables involved are highly correlated with each other and are independent and not collinear. Main idea is to keep the \n",
    "root mean squared error values(distances between the line to be fit and the training data points) minimum. An HR department of\n",
    "an organization can use the current experience of a professional they wish to interview, to get an idea about how much salary \n",
    "can be given to him/her as salaries are highly positively correlated with experience.\n"
   ]
  },
  {
   "cell_type": "code",
   "execution_count": null,
   "id": "cf8599bb",
   "metadata": {},
   "outputs": [],
   "source": [
    "9. What is the difference between supervised and unsupervised learning? With a sample application in each region, explain the \n",
    "differences."
   ]
  },
  {
   "cell_type": "code",
   "execution_count": null,
   "id": "9a83138e",
   "metadata": {},
   "outputs": [],
   "source": [
    "Ans:\n",
    "Supervised machine learning is done using labeled data whereas unsupervised learning has no labeled data.\n",
    "\n",
    "Classification of flowers in IRIS dataset is a very common application of supervised machine learning. The dataset has 4 \n",
    "features: Petal length, Petal width, Sepal length and Sepal width. Target variable contains labels Virginica, Versicolor and \n",
    "    Setosa. If using Decision Trees algorithm, then labeled data is necessary for criterias or thresholds to be built that have\n",
    "    to be either passed or failed by values of independent variables. The class labels are known beforehand and come from a \n",
    "    finite set.\n",
    "\n",
    "Clustering of customers based on their previous purchases on e-commerce websites requires unlabeled data. If k means algorithm \n",
    "is used then based on calculations of centroids, data points are classified into clusters. Since the class labels were not known\n",
    "beforehand but did come from a finite set, number of clusters initialized becomes highly important.\n"
   ]
  },
  {
   "cell_type": "code",
   "execution_count": null,
   "id": "fe50be21",
   "metadata": {},
   "outputs": [],
   "source": [
    "10. Describe the machine learning process in depth.\n",
    "\n",
    "a. Make brief notes on any two of the following:\n",
    "\n",
    "MATLAB is one of the most widely used programming languages.\n",
    "\n",
    "ii. Deep learning applications in healthcare\n",
    "\n",
    "iii. Study of the market basket\n",
    "\n",
    "iv. Linear regression (simple)"
   ]
  },
  {
   "cell_type": "code",
   "execution_count": null,
   "id": "097fbd90",
   "metadata": {},
   "outputs": [],
   "source": [
    "Ans:\n",
    "\n",
    "First step is to specify the problem statement we wish to solve\n",
    "\n",
    "Next, we collect data relevant to our problem statement. Data collection can be through webscraping, surveys, company records\n",
    "\n",
    "Data has to be cleaned and manipulated, null values removed or imputed. Cleaned data also needs to be split into training and\n",
    "test set so that it is usable by machine learning model for learning phase.\n",
    "\n",
    "We train the machine learning model over the collected and cleaned data. Training can be supervised or unsupervised, depending \n",
    "upon the problem statement and the availability of labeled data.\n",
    "\n",
    "Next, we test the trained machine learning model using performance metrics based on the type of problem we are solving and the\n",
    "algorithm we used. For Regression, we may use the R-squared value. For classification, we can use log losses, recall and \n",
    "precision scores etc. If unsupervised model is built, we might use the DB Index.\n",
    "\n",
    "\n",
    "\n",
    "i. MATLAB is one of the most widely used programming languages.\n",
    "\n",
    "MATLAB short for Matrix Laboratory is a widely used programming language which finds its most usage in writing mathematically \n",
    "intensive, technical programs that have a very low space and time complexity issue. MATLAB has graph plotting capabilities, \n",
    "fast array-based computations, and large mathematical functions library.\n",
    "\n",
    "\n",
    "ii. Deep learning applications in healthcare\n",
    "\n",
    "Deep learning is being put to good use in healthcare industry for automated detection of glucose levels in diabetic patients,\n",
    "detecting health problems and a lot more. Lung related issues can be detected by simply feeding the coughing sound data to deep\n",
    "learning models. The capability of deep learning models to go through a lot of data and still be able to make accurate \n",
    "predictions makes it appropriate for the next revolution in healthcare.\n",
    "\n"
   ]
  },
  {
   "cell_type": "code",
   "execution_count": null,
   "id": "b4edf031",
   "metadata": {},
   "outputs": [],
   "source": [
    "11. Make a comparison between:-\n",
    "\n",
    "1. Generalization and abstraction\n",
    "\n",
    "2. Learning that is guided and unsupervised\n",
    "\n",
    "3. Regression and classification"
   ]
  },
  {
   "cell_type": "code",
   "execution_count": null,
   "id": "52a1f839",
   "metadata": {},
   "outputs": [],
   "source": [
    "Ans:\n",
    "11.1 Generalization and abstraction\n",
    "\n",
    "Generalization is the characteristic of a machine learning model that dictates how much variations in the input data regarding problem statement can a model handle. Low generalization would mean that the model will not be able to give correct results over varied data, meaning overfitting or high variance. High generalization would mean that the model will be able to give correct results over varied data.\n",
    "\n",
    "Abstraction is a step in machine learning process where the simplification of the problem is done to make the process more streamlined and more efficient while using less memory. Abstraction can constitute one or more steps. Feature selection, dimensionality reduction are some of the examples.\n",
    "11.2 Learning that is guided and unsupervised\n",
    "\n",
    "Supervised machine learning requires labeled data. Performance metrics are different for regression and classification problems. Number of class labels are known beforehand. Computationally taxing on the machine.\n",
    "\n",
    "Unsupervised machine learning is done on unlabeled data. Unsupervised machine learning performance metrics are applicable for all problems being solved by this approach. Number of class labels is not known beforehand. Computationally not as taxing as supervised machine learning.\n",
    "11.3 Regression and classification\n",
    "\n",
    "Regression involves predicting the value of target variable using labeled data, based on the values of independent variables. The values of target variable belong to an open set.\n",
    "\n",
    "Classification involves predicting the value of target variable using either labeled or unlabeled data, based on values of independent variables. The values of target variable belong to a finite set\n"
   ]
  }
 ],
 "metadata": {
  "kernelspec": {
   "display_name": "Python 3 (ipykernel)",
   "language": "python",
   "name": "python3"
  },
  "language_info": {
   "codemirror_mode": {
    "name": "ipython",
    "version": 3
   },
   "file_extension": ".py",
   "mimetype": "text/x-python",
   "name": "python",
   "nbconvert_exporter": "python",
   "pygments_lexer": "ipython3",
   "version": "3.9.7"
  }
 },
 "nbformat": 4,
 "nbformat_minor": 5
}
